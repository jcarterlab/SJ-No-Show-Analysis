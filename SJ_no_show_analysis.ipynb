{
 "cells": [
  {
   "cell_type": "markdown",
   "id": "eb71e1ad",
   "metadata": {},
   "source": [
    "# Saint James No-Show Analysis"
   ]
  },
  {
   "cell_type": "markdown",
   "id": "063cf5eb",
   "metadata": {},
   "source": [
    "This notebook analyses the no-shows at Saint James to see if there are any trends regarding who will and won't show up to a booking from Janurary to June 2023.\n",
    "\n",
    "Key takeaways include:  "
   ]
  },
  {
   "cell_type": "code",
   "execution_count": null,
   "id": "033b16c4",
   "metadata": {},
   "outputs": [],
   "source": [
    "# imports key libraries\n",
    "import pandas as pd\n",
    "import numpy as np\n",
    "\n",
    "# creates a local link to the archive spreadsheet object\n",
    "archive = 'C:/Users/HUAWEI/Desktop/Projects/SJ-No-Show-Analysis/Data/Archive.xlsx'\n",
    "\n",
    "# creats a list of archive sheet names\n",
    "check_out_sheets = ['NO SHOW JAN ', 'NO SHOW FEB', 'NO SHOW', 'NO SHOW APR', 'NO SHOW MAY', 'NO SHOW JUN']\n",
    "\n",
    "# reads-in a list of archive check-out sheets\n",
    "check_out_dfs = []\n",
    "for i in range(len(check_out_sheets)):\n",
    "    check_out_dfs.append(pd.read_excel(archive, check_out_sheets[i]))\n",
    "    \n",
    "# creates a column names object\n",
    "check_outs_col_names = ['Check-in', 'Check-out', 'Nights', 'Guests', 'room', 'room_1', 'name', 'Price', 'paid', 'Booking Type', 'KD cash', 'KD card', 'comment', 'payment status', 'Checked status']\n",
    "\n",
    "# changes the column names for each sheet\n",
    "for i in range(len(check_out_dfs)):\n",
    "    check_out_dfs[i].columns = check_outs_col_names\n",
    "    \n",
    "# joins each check-out sheet together to create a single check-out dataframe\n",
    "check_out_df = pd.concat(check_out_dfs)\n",
    "\n",
    "# saves the check-out dataframe so that changes can be made on the spreadsheet in preparation for data cleaning\n",
    "check_out_df.to_excel('Data/check_out_df.xlsx') \n",
    "\n",
    "# prints the first 6 rows of the new check-out dataframe\n",
    "check_out_df.head(6)"
   ]
  },
  {
   "cell_type": "markdown",
   "id": "037a9700",
   "metadata": {},
   "source": [
    "## 1) Data cleaning"
   ]
  },
  {
   "cell_type": "markdown",
   "id": "93726dc6",
   "metadata": {},
   "source": [
    "### Locate non-blank rows"
   ]
  },
  {
   "cell_type": "code",
   "execution_count": 42,
   "id": "8d7ce345",
   "metadata": {},
   "outputs": [],
   "source": [
    "# reads in the combined check-out dataframe\n",
    "check_out_df = pd.read_excel('C:/Users/HUAWEI/Desktop/Projects/SJ-No-Show-Analysis/Data/check_out_df.xlsx')\n",
    "\n",
    "# creates an index object denoting which rows are non-NA and therefore valid rows\n",
    "col = check_out_df['Check-in']\n",
    "index = []\n",
    "for i in range(len(col)):\n",
    "    try:\n",
    "        col[i].year\n",
    "        index.append(i)\n",
    "    except:\n",
    "        pass\n",
    "\n",
    "# resets the check-out dataframe to non-NA rows\n",
    "check_out_df = check_out_df.iloc[index,:].reset_index(drop=True)\n",
    "\n",
    "# creates a new dataframe including only non-NA rows for the first 3 columns\n",
    "clean_check_out_df = pd.DataFrame()\n",
    "check_out_df = check_out_df[pd.isna(check_out_df.iloc[:,0:1]).sum(axis=1)==0].reset_index(drop=True)"
   ]
  },
  {
   "cell_type": "markdown",
   "id": "e35c7665",
   "metadata": {},
   "source": [
    "### Separate check-in dates"
   ]
  },
  {
   "cell_type": "code",
   "execution_count": 44,
   "id": "fdd4dce4",
   "metadata": {},
   "outputs": [],
   "source": [
    "# imports necessary libraries\n",
    "import datetime as dt\n",
    "import statistics as stats\n",
    "\n",
    "# makes sure no NA values are passed through into the clean dataset\n",
    "def get_col(df, col_name, dot_method=None):\n",
    "    col = df[col_name]\n",
    "    values = []\n",
    "    for i in range(len(col)):\n",
    "        try:\n",
    "            if dot_method != None:\n",
    "                values.append(eval('df[col_name][i]' + dot_method))\n",
    "            else:\n",
    "                values.append(df[col_name][i])\n",
    "        except:\n",
    "            pass\n",
    "    return [i for i in values if pd.isna(i) == False]\n",
    "\n",
    "# creates seperate columns for the check-in year, month and day\n",
    "clean_check_out_df['In-Year'] = get_col(check_out_df, 'Check-in', '.year')\n",
    "clean_check_out_df['In-Month'] = get_col(check_out_df, 'Check-in', '.month')\n",
    "clean_check_out_df['In-Day'] = get_col(check_out_df, 'Check-in', '.day')"
   ]
  },
  {
   "cell_type": "markdown",
   "id": "c4f6c6ea",
   "metadata": {},
   "source": [
    "### Separate check-out dates"
   ]
  },
  {
   "cell_type": "code",
   "execution_count": 45,
   "id": "275d9bf3",
   "metadata": {},
   "outputs": [],
   "source": [
    "# creates an NA free nights column to be added to the check-in date to calcuate check-out\n",
    "nights = get_col(check_out_df, 'Nights')\n",
    "check_in = get_col(check_out_df, 'Check-in')\n",
    "\n",
    "# adds nights to check-in to determine check-out\n",
    "check_out = []\n",
    "for i in range(len(nights)):\n",
    "    check_out.append(check_in[i] + dt.timedelta(days = nights[i]))\n",
    "    \n",
    "# creates a new dataframe object containing check-outs data\n",
    "check_out = pd.DataFrame({'check_out': check_out})\n",
    "\n",
    "# creates 3 seperate columns for the check-outs year, month and day\n",
    "clean_check_out_df['Out-Year'] = get_col(check_out, 'check_out', '.year')\n",
    "clean_check_out_df['Out-Month'] = get_col(check_out, 'check_out', '.month')\n",
    "clean_check_out_df['Out-Day'] = get_col(check_out, 'check_out', '.day')"
   ]
  },
  {
   "cell_type": "markdown",
   "id": "9ff9c96f",
   "metadata": {},
   "source": [
    "### View NAs"
   ]
  },
  {
   "cell_type": "code",
   "execution_count": 46,
   "id": "364cec42",
   "metadata": {},
   "outputs": [
    {
     "data": {
      "text/html": [
       "<div>\n",
       "<style scoped>\n",
       "    .dataframe tbody tr th:only-of-type {\n",
       "        vertical-align: middle;\n",
       "    }\n",
       "\n",
       "    .dataframe tbody tr th {\n",
       "        vertical-align: top;\n",
       "    }\n",
       "\n",
       "    .dataframe thead th {\n",
       "        text-align: right;\n",
       "    }\n",
       "</style>\n",
       "<table border=\"1\" class=\"dataframe\">\n",
       "  <thead>\n",
       "    <tr style=\"text-align: right;\">\n",
       "      <th></th>\n",
       "      <th>Column</th>\n",
       "      <th>NA Count</th>\n",
       "      <th>Percent (%)</th>\n",
       "    </tr>\n",
       "  </thead>\n",
       "  <tbody>\n",
       "    <tr>\n",
       "      <th>0</th>\n",
       "      <td>Nights</td>\n",
       "      <td>0</td>\n",
       "      <td>0.0</td>\n",
       "    </tr>\n",
       "    <tr>\n",
       "      <th>1</th>\n",
       "      <td>Guests</td>\n",
       "      <td>0</td>\n",
       "      <td>0.0</td>\n",
       "    </tr>\n",
       "    <tr>\n",
       "      <th>2</th>\n",
       "      <td>room</td>\n",
       "      <td>0</td>\n",
       "      <td>0.0</td>\n",
       "    </tr>\n",
       "    <tr>\n",
       "      <th>3</th>\n",
       "      <td>Price</td>\n",
       "      <td>0</td>\n",
       "      <td>0.0</td>\n",
       "    </tr>\n",
       "    <tr>\n",
       "      <th>4</th>\n",
       "      <td>Booking Type</td>\n",
       "      <td>0</td>\n",
       "      <td>0.0</td>\n",
       "    </tr>\n",
       "    <tr>\n",
       "      <th>5</th>\n",
       "      <td>KD cash</td>\n",
       "      <td>165</td>\n",
       "      <td>100.0</td>\n",
       "    </tr>\n",
       "    <tr>\n",
       "      <th>6</th>\n",
       "      <td>KD card</td>\n",
       "      <td>162</td>\n",
       "      <td>98.2</td>\n",
       "    </tr>\n",
       "    <tr>\n",
       "      <th>7</th>\n",
       "      <td>payment status</td>\n",
       "      <td>0</td>\n",
       "      <td>0.0</td>\n",
       "    </tr>\n",
       "    <tr>\n",
       "      <th>8</th>\n",
       "      <td>Checked status</td>\n",
       "      <td>35</td>\n",
       "      <td>21.2</td>\n",
       "    </tr>\n",
       "  </tbody>\n",
       "</table>\n",
       "</div>"
      ],
      "text/plain": [
       "           Column  NA Count  Percent (%)\n",
       "0          Nights         0          0.0\n",
       "1          Guests         0          0.0\n",
       "2            room         0          0.0\n",
       "3           Price         0          0.0\n",
       "4    Booking Type         0          0.0\n",
       "5         KD cash       165        100.0\n",
       "6         KD card       162         98.2\n",
       "7  payment status         0          0.0\n",
       "8  Checked status        35         21.2"
      ]
     },
     "execution_count": 46,
     "metadata": {},
     "output_type": "execute_result"
    }
   ],
   "source": [
    "# creates a cols object for looping\n",
    "cols = ['Nights', 'Guests', 'room', 'Price', 'Booking Type', 'KD cash', 'KD card', 'payment status', 'Checked status']\n",
    "\n",
    "# creates a length object for calculating NA percentages\n",
    "total = len(check_out_df)\n",
    "\n",
    "# calculates total NAs and NA percentages\n",
    "NAs = []\n",
    "percent = []\n",
    "for i in range(len(cols)):\n",
    "    NAs.append(sum(check_out_df[cols[i]].isna()))\n",
    "    percent.append((round(sum(check_out_df[cols[i]].isna()) / total, 3))*100)\n",
    "\n",
    "# displays NA counts and percentages as a dataframe\n",
    "pd.DataFrame({'Column': cols, 'NA Count': NAs, 'Percent (%)': percent})"
   ]
  },
  {
   "cell_type": "markdown",
   "id": "adf7d320",
   "metadata": {},
   "source": [
    "### Fill NAs"
   ]
  },
  {
   "cell_type": "code",
   "execution_count": 47,
   "id": "61e09adb",
   "metadata": {},
   "outputs": [],
   "source": [
    "# assigns the nights object as the nights column\n",
    "clean_check_out_df['Nights'] = nights\n",
    "\n",
    "# fills missing guests values with the median\n",
    "clean_check_out_df['Guests'] = check_out_df['Guests'].fillna(stats.median(check_out_df['Guests']))\n",
    "\n",
    "# fills missing room values with room 21\n",
    "clean_check_out_df['Room'] = check_out_df['room'].fillna(21)\n",
    "\n",
    "# fills missing price values in with the median price\n",
    "clean_check_out_df['Price'] = check_out_df['Price'].fillna(stats.median(check_out_df['Price']))\n",
    "\n",
    "# fills missing booking type values with booking vc\n",
    "clean_check_out_df['Booking Type'] = check_out_df['Booking Type'].str.lower().fillna('Booking VC')\n",
    "\n",
    "# fills missing kd cash and card values with 0 \n",
    "clean_check_out_df['KD Cash'] = check_out_df['KD cash'].fillna(0)\n",
    "clean_check_out_df['KD Card'] = check_out_df['KD card'].fillna(0)\n",
    "\n",
    "# fills missing payment status values with 'none'\n",
    "clean_check_out_df['Payment Status'] = check_out_df['payment status'].str.lower().fillna('none')\n",
    "\n",
    "# creates a binary column where an NA value is assumed to mean the booking was not checked\n",
    "clean_check_out_df['Booking Checked'] = [1 if i is not True else 0 for i in check_out_df['Checked status'].isna()]"
   ]
  },
  {
   "cell_type": "markdown",
   "id": "11fdcfbb",
   "metadata": {},
   "source": [
    "## 2) Transformations"
   ]
  },
  {
   "cell_type": "markdown",
   "id": "6eb14ac6",
   "metadata": {},
   "source": [
    "### Transform standard columns"
   ]
  },
  {
   "cell_type": "code",
   "execution_count": 48,
   "id": "39c10c3a",
   "metadata": {},
   "outputs": [],
   "source": [
    "# bookings each month\n",
    "by_months = clean_check_out_df['In-Month'].value_counts().sort_index().iloc[0:7]\n",
    "\n",
    "# bookings by number of nights\n",
    "by_nights = clean_check_out_df['Nights'].value_counts().sort_index().iloc[0:10]\n",
    "\n",
    "# bookings by number of guests\n",
    "by_guests = clean_check_out_df['Guests'].value_counts().sort_index().iloc[0:5]\n",
    "\n",
    "# bookings by individual rooms\n",
    "by_room = clean_check_out_df['Room'].astype(str).value_counts().sort_index()\n",
    "\n",
    "# months by total price in thousands\n",
    "by_price = round(clean_check_out_df.groupby('In-Month').sum()['Price'].iloc[0:7:] / 1000, 1)"
   ]
  },
  {
   "cell_type": "markdown",
   "id": "a81a4498",
   "metadata": {},
   "source": [
    "### Transform % of bookings"
   ]
  },
  {
   "cell_type": "code",
   "execution_count": 180,
   "id": "ff44a283",
   "metadata": {},
   "outputs": [],
   "source": [
    "# lists total bookings each month\n",
    "total_bookings = [495, 505, 625, 649, 763, 876]\n",
    "\n",
    "# divides no shows by total bookings to get no shows as a percent of bookings \n",
    "by_percent_bookings = (by_months / total_bookings) * 100"
   ]
  },
  {
   "cell_type": "markdown",
   "id": "2fd3e6ff",
   "metadata": {},
   "source": [
    "### Transform room type"
   ]
  },
  {
   "cell_type": "code",
   "execution_count": 55,
   "id": "7a7a48e0",
   "metadata": {},
   "outputs": [],
   "source": [
    "# filters out problematic values\n",
    "problems = ['03/21', '1900-01-04 00:00:00', '2025-04-01 00:00:00']\n",
    "index = [True if i not in problems else False for i in by_room.index]\n",
    "by_room = by_room[index]\n",
    "\n",
    "# creates lists of rooms for each room type\n",
    "private = ['A', 'B', 'C', '30', '31', '37']\n",
    "eight_bed = ['3', '4', '21', '24']\n",
    "female = ['2', '5', '23']\n",
    "six_bed = ['36', '32']\n",
    "four_bed = ['33', '34', '35']\n",
    "triple = ['1', '6', '20', '25']\n",
    "\n",
    "# loops through the by room summary and assigns a room type to the room_type object\n",
    "room_type = []\n",
    "for  i in range(len(by_room)):\n",
    "    if by_room.index[i] in private:\n",
    "        room_type.append('Private')\n",
    "    elif by_room.index[i] in eight_bed:\n",
    "        room_type.append('8 bed')\n",
    "    elif by_room.index[i] in female:\n",
    "        room_type.append('Female')\n",
    "    elif by_room.index[i] in six_bed:\n",
    "        room_type.append('6 bed')\n",
    "    elif by_room.index[i] in four_bed:\n",
    "        room_type.append('4 bed')\n",
    "    elif by_room.index[i] in triple:\n",
    "        room_type.append('Triple')\n",
    "    else:\n",
    "        room_type.append('Multiple')\n",
    "\n",
    "# creates a dataframe of rooms, counts and types\n",
    "room_df = pd.DataFrame({'Room': by_room.index, 'Count': by_room, 'Type': room_type}).reset_index(drop=True)\n",
    "\n",
    "# sorts the data by value count\n",
    "by_room = room_df.Count.sort_values(ascending=False)\n",
    "by_room.index = room_df.Room\n",
    "\n",
    "# sums the data after grouping by room type and reverses the order to be descending\n",
    "by_room_type = room_df[['Count', 'Type']].groupby('Type').sum().iloc[:,0].sort_values(ascending=True)\n",
    "by_room_type = by_room_type[::-1]"
   ]
  },
  {
   "cell_type": "markdown",
   "id": "948646c8",
   "metadata": {},
   "source": [
    "### Transform booking type"
   ]
  },
  {
   "cell_type": "code",
   "execution_count": 50,
   "id": "4310a19a",
   "metadata": {},
   "outputs": [],
   "source": [
    "# removes extra whitespace\n",
    "clean_check_out_df['Booking Type'] = [x.strip() for x in clean_check_out_df['Booking Type']]\n",
    "\n",
    "# converts mispelled booking vcs \n",
    "clean_check_out_df.loc[clean_check_out_df['Booking Type'] == 'booking', 'Booking Type'] = 'booking vc'\n",
    "clean_check_out_df.loc[clean_check_out_df['Booking Type'] == 'bookin vc', 'Booking Type'] = 'booking vc'\n",
    "clean_check_out_df.loc[clean_check_out_df['Booking Type'] == 'bookingvcd', 'Booking Type'] = 'booking vcd'\n",
    "\n",
    "# converts mispelled expedia vcns \n",
    "clean_check_out_df.loc[clean_check_out_df['Booking Type'] == 'expediavcn', 'Booking Type'] = 'expedia vcn'\n",
    "clean_check_out_df.loc[clean_check_out_df['Booking Type'] == 'expediavcn', 'Booking Type'] = 'expedia vcn'\n",
    "\n",
    "# converts group booking to group for concision\n",
    "clean_check_out_df.loc[clean_check_out_df['Booking Type'] == 'group booking', 'Booking Type'] = 'group'\n",
    "\n",
    "# converts trip.com entries into trip for concision\n",
    "clean_check_out_df.loc[clean_check_out_df['Booking Type'] == 'trip', 'Booking Type'] = 'trip vc'\n",
    "clean_check_out_df.loc[clean_check_out_df['Booking Type'] == 'trip.com', 'Booking Type'] = 'trip vc'\n",
    "\n",
    "# converts mispelled walk-ins \n",
    "clean_check_out_df.loc[clean_check_out_df['Booking Type'] == 'walk ', 'Booking Type'] = 'walk-in'\n",
    "clean_check_out_df.loc[clean_check_out_df['Booking Type'] == 'walk', 'Booking Type'] = 'walk-in'\n",
    "clean_check_out_df.loc[clean_check_out_df['Booking Type'] == 'wak-in', 'Booking Type'] = 'walk-in'\n",
    "clean_check_out_df.loc[clean_check_out_df['Booking Type'] == 'walk in', 'Booking Type'] = 'walk-in'\n",
    "clean_check_out_df.loc[clean_check_out_df['Booking Type'] == 'walkin', 'Booking Type'] = 'walk-in'\n",
    "\n",
    "# converts weekly rate to weekly for concision\n",
    "clean_check_out_df.loc[clean_check_out_df['Booking Type'] == 'weekly rate', 'Booking Type'] = 'weekly'\n",
    "\n",
    "# converts to lower, counts values and sorts in descending order\n",
    "by_booking_type = clean_check_out_df['Booking Type'].str.lower().value_counts().sort_values(ascending=False)"
   ]
  },
  {
   "cell_type": "markdown",
   "id": "38df9b37",
   "metadata": {},
   "source": [
    "### Transform booking provider"
   ]
  },
  {
   "cell_type": "code",
   "execution_count": 51,
   "id": "de763ac9",
   "metadata": {},
   "outputs": [],
   "source": [
    "# assigns different booking types to a booking_provider object\n",
    "booking_provider = []\n",
    "for i in range(len(clean_check_out_df)):\n",
    "    if 'ooking' in clean_check_out_df['Booking Type'][i]:\n",
    "        booking_provider.append('booking')\n",
    "    elif 'expedia' in clean_check_out_df['Booking Type'][i]:\n",
    "        booking_provider.append('expedia')\n",
    "    elif 'trip' in clean_check_out_df['Booking Type'][i]:\n",
    "        booking_provider.append('trip')\n",
    "    else:\n",
    "        booking_provider.append(clean_check_out_df['Booking Type'][i])\n",
    "\n",
    "# creates a new booking provider column in the clean dataframe\n",
    "clean_check_out_df['Booking provider'] = booking_provider\n",
    "\n",
    "# counts different booking provider types and converts the index to title\n",
    "by_booking_provider = clean_check_out_df['Booking provider'].value_counts().iloc[0:6]\n",
    "by_booking_provider.index = by_booking_provider.index.str.title()"
   ]
  },
  {
   "cell_type": "markdown",
   "id": "149ff94f",
   "metadata": {},
   "source": [
    "### Transform paid"
   ]
  },
  {
   "cell_type": "code",
   "execution_count": 161,
   "id": "3a42cded",
   "metadata": {},
   "outputs": [],
   "source": [
    "# lists all the mispellings of paid\n",
    "paid_mispellings = ['paind', 'paid  ', 'paid by paynow', 'paud ', 'piad', 'paid paynow',\n",
    "                    'paid with paynow', 'oaid', 'paid  paynow', 'paid   ', \n",
    "                    ' paid', 'paidl', 'paynow', 'paif', 'paid by pay now', 'paid ']\n",
    "\n",
    "# converts all instances of paid mispellings to paid\n",
    "for i in range(len(clean_check_out_df)):\n",
    "    if clean_check_out_df['Payment Status'][i] in paid_mispellings:\n",
    "        clean_check_out_df['Payment Status'][i] = 'paid'\n",
    "\n",
    "#  creates two binary lists indicating paid or not paid\n",
    "paid = []\n",
    "not_paid = []\n",
    "for i in range(len(clean_check_out_df)):\n",
    "    if clean_check_out_df['Payment Status'][i] == 'paid':\n",
    "        paid.append(1)\n",
    "        not_paid.append(0)\n",
    "    else:\n",
    "        paid.append(0)\n",
    "        not_paid.append(1)\n",
    "\n",
    "# creates two new binary columns in the dataframe indicating paid and not paid\n",
    "clean_check_out_df['paid'] = paid\n",
    "clean_check_out_df['not paid'] = not_paid\n",
    "\n",
    "# sums paid and not paid by month and then calculates a paid ratio\n",
    "paid_months = clean_check_out_df[['In-Month', 'paid']].groupby('In-Month').sum().iloc[0:7].squeeze()\n",
    "not_paid_months = clean_check_out_df[['In-Month', 'not paid']].groupby('In-Month').sum().iloc[0:7].squeeze()\n",
    "by_payment_mistakes = round((not_paid_months / (paid_months+not_paid_months))*100,2)\n",
    "\n",
    "# creates a price not paid measure\n",
    "by_price_not_paid = by_price * (by_payment_mistakes/100)"
   ]
  },
  {
   "cell_type": "markdown",
   "id": "64f1b60c",
   "metadata": {},
   "source": [
    "### Transform dates to weekdays"
   ]
  },
  {
   "cell_type": "code",
   "execution_count": 52,
   "id": "5236f78e",
   "metadata": {},
   "outputs": [],
   "source": [
    "# takes in the date and gives back the day of the week\n",
    "def calculate_day_of_week(year, month, day):\n",
    "    try:\n",
    "        # Create a datetime object for the given date\n",
    "        date_obj = dt.datetime(year, month, day)\n",
    "        # Get the day of the week as an integer (Monday is 0 and Sunday is 6)\n",
    "        day_of_week = date_obj.weekday()\n",
    "        \n",
    "        return day_of_week\n",
    "    except ValueError as e:\n",
    "        return str(e)\n",
    "\n",
    "# calculates the day of the week for each booking in the dataframe\n",
    "weekdays = []\n",
    "for i in range(len(clean_check_out_df)):\n",
    "    year = clean_check_out_df['In-Year'][i]\n",
    "    month = clean_check_out_df['In-Month'][i]\n",
    "    day = clean_check_out_df['In-Day'][i]\n",
    "    weekdays.append(calculate_day_of_week(year, month, day))\n",
    "    \n",
    "# creates a weekdays column\n",
    "clean_check_out_df['weekday'] = weekdays\n",
    "\n",
    "# counts weekdays and sorts the index\n",
    "by_weekday = clean_check_out_df['weekday'].value_counts().sort_index()"
   ]
  },
  {
   "cell_type": "markdown",
   "id": "2d7fa843",
   "metadata": {},
   "source": [
    "## 3) Vizualizations"
   ]
  },
  {
   "cell_type": "markdown",
   "id": "99381653",
   "metadata": {},
   "source": [
    "### Financial overview"
   ]
  },
  {
   "cell_type": "code",
   "execution_count": 187,
   "id": "e71676c9",
   "metadata": {},
   "outputs": [
    {
     "data": {
      "image/png": "[encoded data removed]",
      "text/plain": [
       "<Figure size 1008x576 with 4 Axes>"
      ]
     },
     "metadata": {
      "needs_background": "light"
     },
     "output_type": "display_data"
    }
   ],
   "source": [
    "import matplotlib.pyplot as plt \n",
    "\n",
    "plots = [ 'by_months', 'by_payment_mistakes', 'by_price_not_paid', 'by_percent_bookings']\n",
    "\n",
    "titles = ['Total', '% not paid', 'Total not paid', 'as a % of bookings']\n",
    "\n",
    "months = ['Jan', 'Feb', 'Mar', 'Apr', 'May', 'June']\n",
    "\n",
    "days = [\"Mon\", \"Tue\", \"Wed\", \"Thur\", \"Fri\", \"Sat\", \"Sun\"]\n",
    "\n",
    "xticks = [months, months, months, months]\n",
    "\n",
    "ylabs = ['Total no-shows', '% not paid', 'Thousands (£)', '% of total']\n",
    "\n",
    "colors = ['tab:red', 'tab:blue', 'tab:green', 'tab:orange']\n",
    "\n",
    "length = len(plots)\n",
    "cols = 2\n",
    "rows = int(np.ceil(length / cols))\n",
    "\n",
    "fig, ax = plt.subplots(rows, cols, figsize=(14,8));\n",
    "fig.tight_layout(pad=3.0);\n",
    "for i in range(rows):\n",
    "    for j in range(cols):\n",
    "        num = (i*rows)-j\n",
    "        ax[i, j].bar(eval(plots[num]).index, eval(plots[num]), color=colors[num]);\n",
    "        ax[i, j].set_title(titles[num]);\n",
    "        ax[i, j].set_xticks(eval(plots[num]).index, labels=xticks[num]);\n",
    "        ax[i, j].set_ylabel(ylabs[num]);"
   ]
  },
  {
   "cell_type": "markdown",
   "id": "5abcd295",
   "metadata": {},
   "source": [
    "### Customer type overview"
   ]
  },
  {
   "cell_type": "code",
   "execution_count": null,
   "id": "583f4932",
   "metadata": {},
   "outputs": [],
   "source": [
    "import matplotlib.pyplot as plt \n",
    "\n",
    "plots = ['by_nights', 'by_guests', 'by_weekday', 'by_room_type', 'by_booking_provider']\n",
    "\n",
    "titles = ['No. of Nights Stayed', 'No. of Guests', 'Total Bookings', 'Day of the Week', 'Room Type', 'Booking Providers', '% not paid']\n",
    "\n",
    "months = ['Jan', 'Feb', 'Mar', 'Apr', 'May', 'June']\n",
    "\n",
    "days = [\"Mon\", \"Tue\", \"Wed\", \"Thur\", \"Fri\", \"Sat\", \"Sun\"]\n",
    "\n",
    "providers = ['Booking', 'Walk-in', 'HW', 'Expedia', 'BB', 'Trip']\n",
    "\n",
    "xticks = [None, None, months, days, None, providers, months]\n",
    "\n",
    "ylabs = ['Bookings', 'Bookings', 'Bookings', 'Bookings', 'Bookings', 'Bookings', '% not paid']\n",
    "\n",
    "colors = ['tab:red', 'tab:green', 'tab:blue', 'tab:orange', 'tab:purple', 'tab:pink', 'tab:brown']\n",
    "\n",
    "length = len(plots)\n",
    "cols = 3\n",
    "rows = int(np.ceil(length / cols))\n",
    "\n",
    "fig, ax = plt.subplots(rows, cols, figsize=(15,8))\n",
    "fig.tight_layout(pad=3.0);\n",
    "for i in range(rows):\n",
    "    for j in range(cols):\n",
    "        num = (((i+1)*3)-j)-1\n",
    "        ax[i, j].bar(eval(plots[num]).index, eval(plots[num]), color=colors[num]);\n",
    "        ax[i, j].set_title(titles[num]);\n",
    "        ax[i, j].set_xticks(eval(plots[num]).index, labels=xticks[num]);\n",
    "        ax[i,j].set_ylabel(ylabs[num]);"
   ]
  }
 ],
 "metadata": {
  "kernelspec": {
   "display_name": "Python 3 (ipykernel)",
   "language": "python",
   "name": "python3"
  },
  "language_info": {
   "codemirror_mode": {
    "name": "ipython",
    "version": 3
   },
   "file_extension": ".py",
   "mimetype": "text/x-python",
   "name": "python",
   "nbconvert_exporter": "python",
   "pygments_lexer": "ipython3",
   "version": "3.10.5"
  }
 },
 "nbformat": 4,
 "nbformat_minor": 5
}
